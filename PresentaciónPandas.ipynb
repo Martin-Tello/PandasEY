{
  "nbformat": 4,
  "nbformat_minor": 0,
  "metadata": {
    "colab": {
      "provenance": [],
      "authorship_tag": "ABX9TyO5ym6hmbIg9xLQg4HZ31G9",
      "include_colab_link": true
    },
    "kernelspec": {
      "name": "python3",
      "display_name": "Python 3"
    },
    "language_info": {
      "name": "python"
    }
  },
  "cells": [
    {
      "cell_type": "markdown",
      "metadata": {
        "id": "view-in-github",
        "colab_type": "text"
      },
      "source": [
        "<a href=\"https://colab.research.google.com/github/Martin-Tello/PandasEY/blob/main/Presentaci%C3%B3nPandas.ipynb\" target=\"_parent\"><img src=\"https://colab.research.google.com/assets/colab-badge.svg\" alt=\"Open In Colab\"/></a>"
      ]
    },
    {
      "cell_type": "markdown",
      "source": [
        "**Importar arhivos**"
      ],
      "metadata": {
        "id": "JXQpK8T1rLAC"
      }
    },
    {
      "cell_type": "code",
      "source": [
        "#Importar libreria"
      ],
      "metadata": {
        "id": "SlO83bnMHn37"
      },
      "execution_count": null,
      "outputs": []
    },
    {
      "cell_type": "code",
      "source": [
        "#importar CSV"
      ],
      "metadata": {
        "id": "RHZ1Lo96rIGj"
      },
      "execution_count": null,
      "outputs": []
    },
    {
      "cell_type": "code",
      "source": [
        "#importar EXCEL"
      ],
      "metadata": {
        "id": "uf_64HwgrPoN"
      },
      "execution_count": null,
      "outputs": []
    },
    {
      "cell_type": "code",
      "source": [
        "#importar SQL"
      ],
      "metadata": {
        "id": "1BLX3G0irhau"
      },
      "execution_count": null,
      "outputs": []
    },
    {
      "cell_type": "code",
      "source": [
        "#importar Json"
      ],
      "metadata": {
        "id": "7tZDnoeFrjZu"
      },
      "execution_count": null,
      "outputs": []
    },
    {
      "cell_type": "code",
      "source": [
        "#importar HTML\n",
        "##https://en.wikipedia.org/wiki/South_America"
      ],
      "metadata": {
        "id": "FuwlDjYLmD-q"
      },
      "execution_count": null,
      "outputs": []
    },
    {
      "cell_type": "markdown",
      "source": [
        "**DATAFRAME**"
      ],
      "metadata": {
        "id": "P4Ep-eWKrojd"
      }
    },
    {
      "cell_type": "code",
      "source": [
        "# Crear un DataFrame"
      ],
      "metadata": {
        "id": "swiE690VHHp_"
      },
      "execution_count": null,
      "outputs": []
    },
    {
      "cell_type": "markdown",
      "source": [
        "**Manipulación de columnas y filas**"
      ],
      "metadata": {
        "id": "_B0B7qu1Hp7b"
      }
    },
    {
      "cell_type": "code",
      "source": [
        "# Cambiar el nombre de la columna 'Ciudad' a 'Localidad'"
      ],
      "metadata": {
        "id": "AVlhwkk2HKbK"
      },
      "execution_count": null,
      "outputs": []
    },
    {
      "cell_type": "code",
      "source": [
        "# Seleccionar solo las filas de las personas mayores de 30 años"
      ],
      "metadata": {
        "id": "8ekq7UcFHMrr"
      },
      "execution_count": null,
      "outputs": []
    },
    {
      "cell_type": "code",
      "source": [
        "#Cambiar valor en específico de alguna Fila"
      ],
      "metadata": {
        "id": "FSKrJe3qHQte"
      },
      "execution_count": null,
      "outputs": []
    },
    {
      "cell_type": "code",
      "source": [
        "# Agregar una columna calculando el índice de masa corporal (IMC) de cada persona"
      ],
      "metadata": {
        "id": "d3i-wLg2HWVH"
      },
      "execution_count": null,
      "outputs": []
    },
    {
      "cell_type": "code",
      "source": [
        "# Seleccionar solo las filas de las personas con IMC mayor a 25 (sobrepeso)"
      ],
      "metadata": {
        "id": "NTONywHiHZic"
      },
      "execution_count": null,
      "outputs": []
    },
    {
      "cell_type": "code",
      "source": [
        "# Eliminar una columna"
      ],
      "metadata": {
        "id": "AcB8pgVkHeEa"
      },
      "execution_count": null,
      "outputs": []
    },
    {
      "cell_type": "code",
      "source": [
        "# Ordenar el DataFrame por nombre"
      ],
      "metadata": {
        "id": "ckXagFyuHl8_"
      },
      "execution_count": null,
      "outputs": []
    },
    {
      "cell_type": "markdown",
      "source": [
        "**Seleccionar todas las filas y columnas de un DataFrame:**"
      ],
      "metadata": {
        "id": "pq4aBgFDPn1c"
      }
    },
    {
      "cell_type": "code",
      "source": [
        "# Selección de todas las filas y columnas"
      ],
      "metadata": {
        "id": "FFVo6blJHmDQ"
      },
      "execution_count": null,
      "outputs": []
    },
    {
      "cell_type": "code",
      "source": [
        "# Seleccionar filas y columnas específicas"
      ],
      "metadata": {
        "id": "s1A1Kt0kPvQD"
      },
      "execution_count": null,
      "outputs": []
    },
    {
      "cell_type": "code",
      "source": [
        "#Iterar cierta parte del dataframe"
      ],
      "metadata": {
        "id": "_GiyrQtVS2Hr"
      },
      "execution_count": null,
      "outputs": []
    },
    {
      "cell_type": "code",
      "source": [
        "# Selección de filas con un valor específico en una columna\n"
      ],
      "metadata": {
        "id": "zPRyMjVkQ0M-"
      },
      "execution_count": null,
      "outputs": []
    },
    {
      "cell_type": "markdown",
      "source": [
        "**Filtrado de datos**"
      ],
      "metadata": {
        "id": "eQNNhlJzKHOF"
      }
    },
    {
      "cell_type": "code",
      "source": [
        "#Filtrar por una columna en específico:"
      ],
      "metadata": {
        "id": "QR7q0YQNKHmQ"
      },
      "execution_count": null,
      "outputs": []
    },
    {
      "cell_type": "code",
      "source": [
        "#Filtrar utilizando múltiples condiciones:"
      ],
      "metadata": {
        "id": "DZEFQxl4KMpA"
      },
      "execution_count": null,
      "outputs": []
    },
    {
      "cell_type": "code",
      "source": [
        "##Filtrar utilizando expresiones regulares:"
      ],
      "metadata": {
        "id": "l0zsuvd5KQ30"
      },
      "execution_count": null,
      "outputs": []
    },
    {
      "cell_type": "code",
      "source": [
        "#Filtrar utilizando la función query():"
      ],
      "metadata": {
        "id": "zd6FBDCcKTot"
      },
      "execution_count": null,
      "outputs": []
    },
    {
      "cell_type": "markdown",
      "source": [
        "**Agrupación de datos**"
      ],
      "metadata": {
        "id": "yCHduUoLKBNF"
      }
    },
    {
      "cell_type": "code",
      "source": [
        "# Agrupar los datos por ciudad y contar el número de personas en cada ciudad"
      ],
      "metadata": {
        "id": "YCwq0nd_KBtW"
      },
      "execution_count": null,
      "outputs": []
    },
    {
      "cell_type": "code",
      "source": [
        "# Agrupar los datos por profesión y obtener el salario promedio de cada grupo"
      ],
      "metadata": {
        "id": "Jn7q92EhKa16"
      },
      "execution_count": null,
      "outputs": []
    },
    {
      "cell_type": "markdown",
      "source": [
        "**Pivot Tables**"
      ],
      "metadata": {
        "id": "OqOXGdC8PzVZ"
      }
    },
    {
      "cell_type": "code",
      "source": [
        "#crear una tabla"
      ],
      "metadata": {
        "id": "gT5iT09UP6xs"
      },
      "execution_count": null,
      "outputs": []
    },
    {
      "cell_type": "markdown",
      "source": [
        "**Caso Aplicado**"
      ],
      "metadata": {
        "id": "Sdeva0cnsrXF"
      }
    },
    {
      "cell_type": "code",
      "source": [
        "#Gráfico circular"
      ],
      "metadata": {
        "id": "GhTG4C-Ist_v"
      },
      "execution_count": null,
      "outputs": []
    },
    {
      "cell_type": "code",
      "source": [
        "#Gráfico de barras"
      ],
      "metadata": {
        "id": "_nkK_6T9tDqt"
      },
      "execution_count": null,
      "outputs": []
    },
    {
      "cell_type": "code",
      "source": [],
      "metadata": {
        "id": "cIYkDXE-tXXG"
      },
      "execution_count": null,
      "outputs": []
    }
  ]
}